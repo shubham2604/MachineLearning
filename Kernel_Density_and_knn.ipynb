{
 "cells": [
  {
   "cell_type": "code",
   "execution_count": 1,
   "metadata": {},
   "outputs": [],
   "source": [
    "import numpy as np\n",
    "import math\n",
    "import matplotlib.pyplot as plt\n",
    "from scipy.spatial.distance import cdist as cd"
   ]
  },
  {
   "cell_type": "code",
   "execution_count": 2,
   "metadata": {
    "scrolled": true
   },
   "outputs": [],
   "source": [
    "pos = np.arange(-5.0,5,0.1)"
   ]
  },
  {
   "cell_type": "markdown",
   "metadata": {},
   "source": [
    "# <center> Kernel Density Estimation Using Gaussian Kernel </center>"
   ]
  },
  {
   "cell_type": "code",
   "execution_count": 3,
   "metadata": {},
   "outputs": [],
   "source": [
    "def kernel(x,xi,h):\n",
    "    return 1/(2*math.pi*h**2)*math.exp((-(x-xi)**2)/(2*h**2))"
   ]
  },
  {
   "cell_type": "code",
   "execution_count": 4,
   "metadata": {},
   "outputs": [],
   "source": [
    "def kde(samples, h):\n",
    "    size = np.size(samples)\n",
    "    density = np.zeros(size)\n",
    "    for i in range(0,size):\n",
    "        x=0\n",
    "        for j in range(0,size):\n",
    "             x += kernel(samples[i],samples[j],h)\n",
    "        density[i] = x/size\n",
    "        \n",
    "    return density"
   ]
  },
  {
   "cell_type": "markdown",
   "metadata": {},
   "source": [
    "# <center> Visualization </center>"
   ]
  },
  {
   "cell_type": "code",
   "execution_count": 5,
   "metadata": {},
   "outputs": [
    {
     "name": "stdout",
     "output_type": "stream",
     "text": [
      "[0.11962994 0.15474337 0.17887646 0.19179397 0.19717879 0.19892699\n",
      " 0.199369   0.19945604 0.19946939 0.19947098 0.19947113 0.19947114\n",
      " 0.19947114 0.19947114 0.19947114 0.19947114 0.19947114 0.19947114\n",
      " 0.19947114 0.19947114 0.19947114 0.19947114 0.19947114 0.19947114\n",
      " 0.19947114 0.19947114 0.19947114 0.19947114 0.19947114 0.19947114\n",
      " 0.19947114 0.19947114 0.19947114 0.19947114 0.19947114 0.19947114\n",
      " 0.19947114 0.19947114 0.19947114 0.19947114 0.19947114 0.19947114\n",
      " 0.19947114 0.19947114 0.19947114 0.19947114 0.19947114 0.19947114\n",
      " 0.19947114 0.19947114 0.19947114 0.19947114 0.19947114 0.19947114\n",
      " 0.19947114 0.19947114 0.19947114 0.19947114 0.19947114 0.19947114\n",
      " 0.19947114 0.19947114 0.19947114 0.19947114 0.19947114 0.19947114\n",
      " 0.19947114 0.19947114 0.19947114 0.19947114 0.19947114 0.19947114\n",
      " 0.19947114 0.19947114 0.19947114 0.19947114 0.19947114 0.19947114\n",
      " 0.19947114 0.19947114 0.19947114 0.19947114 0.19947114 0.19947114\n",
      " 0.19947114 0.19947114 0.19947114 0.19947114 0.19947114 0.19947113\n",
      " 0.19947098 0.19946939 0.19945604 0.199369   0.19892699 0.19717879\n",
      " 0.19179397 0.17887646 0.15474337 0.11962994]\n"
     ]
    }
   ],
   "source": [
    "print(kde(pos,0.2))"
   ]
  },
  {
   "cell_type": "code",
   "execution_count": 6,
   "metadata": {},
   "outputs": [
    {
     "data": {
      "image/png": "[encoded data removed]",
      "text/plain": [
       "<matplotlib.figure.Figure at 0x1080e25f8>"
      ]
     },
     "metadata": {},
     "output_type": "display_data"
    }
   ],
   "source": [
    "plt.plot(pos,kde(pos,0.3))\n",
    "plt.show()"
   ]
  },
  {
   "cell_type": "markdown",
   "metadata": {},
   "source": [
    "# <center> Testing on data obtained using Normal Distribution </center>"
   ]
  },
  {
   "cell_type": "code",
   "execution_count": 7,
   "metadata": {},
   "outputs": [
    {
     "data": {
      "image/png": "[encoded data removed]",
      "text/plain": [
       "<matplotlib.figure.Figure at 0x1113278d0>"
      ]
     },
     "metadata": {},
     "output_type": "display_data"
    }
   ],
   "source": [
    "rand_1 = np.random.normal(2,1,100) \n",
    "rand_1 = np.sort(rand_1)\n",
    "probability_density = np.zeros(np.size(rand_1))\n",
    "for i in range(0,np.size(rand_1)):\n",
    "    probability_density[i] = kernel(2,rand_1[i],1)\n",
    "plt.subplot(2,1,1)\n",
    "a = plt.plot(rand_1,kde(rand_1,0.6),'r',label='estimated')\n",
    "b = plt.plot(rand_1,probability_density,'b',label='original')\n",
    "plt.plot(rand_1, np.zeros(np.size(rand_1)), '|k',markeredgewidth=1)\n",
    "plt.legend()\n",
    "plt.show()"
   ]
  },
  {
   "cell_type": "markdown",
   "metadata": {},
   "source": [
    "# <center>KNN</center>"
   ]
  },
  {
   "cell_type": "code",
   "execution_count": 8,
   "metadata": {},
   "outputs": [],
   "source": [
    "def distance(a,b):\n",
    "    return abs(a-b)"
   ]
  },
  {
   "cell_type": "code",
   "execution_count": 14,
   "metadata": {},
   "outputs": [],
   "source": [
    "def knn(samples, k):\n",
    "    samples = np.sort(samples)\n",
    "    size = np.size(samples)\n",
    "    density = np.zeros(size)\n",
    "    for i in range(0,size):\n",
    "        distance_to_k = 0\n",
    "        distance_vector= np.zeros(size)\n",
    "        for  j in range(0,size):\n",
    "            distance_vector[j] = distance(samples[i],samples[j])\n",
    "            arg_distance = distance_vector.argsort()\n",
    "            temp2 = arg_distance[k-1]\n",
    "            distance_to_k = distance(samples[i],samples[temp2])\n",
    "            density[i] = k\n",
    "            density[i]/=size\n",
    "            #density[i]/=((4/3)*math.pi*distance_to_k**3)\n",
    "            density[i] /= 2*distance_to_k\n",
    "    return density\n",
    "                "
   ]
  },
  {
   "cell_type": "markdown",
   "metadata": {},
   "source": [
    "# <center>Visualization</center>"
   ]
  },
  {
   "cell_type": "code",
   "execution_count": 15,
   "metadata": {},
   "outputs": [
    {
     "name": "stdout",
     "output_type": "stream",
     "text": [
      "[0.06666667 0.1        0.1        0.1        0.1        0.1\n",
      " 0.1        0.1        0.1        0.1        0.1        0.1\n",
      " 0.1        0.1        0.1        0.1        0.1        0.1\n",
      " 0.1        0.1        0.1        0.1        0.1        0.1\n",
      " 0.1        0.1        0.1        0.1        0.1        0.1\n",
      " 0.1        0.1        0.1        0.1        0.1        0.1\n",
      " 0.1        0.1        0.1        0.1        0.1        0.1\n",
      " 0.1        0.1        0.1        0.1        0.1        0.1\n",
      " 0.1        0.1        0.1        0.1        0.1        0.1\n",
      " 0.1        0.1        0.1        0.1        0.1        0.1\n",
      " 0.1        0.1        0.1        0.1        0.1        0.1\n",
      " 0.1        0.1        0.1        0.1        0.1        0.1\n",
      " 0.1        0.1        0.1        0.1        0.1        0.1\n",
      " 0.1        0.1        0.1        0.1        0.1        0.1\n",
      " 0.1        0.1        0.1        0.1        0.1        0.1\n",
      " 0.1        0.1        0.1        0.1        0.1        0.1\n",
      " 0.1        0.1        0.1        0.06666667]\n"
     ]
    },
    {
     "name": "stderr",
     "output_type": "stream",
     "text": [
      "/Library/Frameworks/Python.framework/Versions/3.4/lib/python3.4/site-packages/ipykernel_launcher.py:16: RuntimeWarning: divide by zero encountered in double_scalars\n",
      "  app.launch_new_instance()\n"
     ]
    }
   ],
   "source": [
    "print(knn(pos,4))"
   ]
  },
  {
   "cell_type": "code",
   "execution_count": 16,
   "metadata": {},
   "outputs": [
    {
     "name": "stderr",
     "output_type": "stream",
     "text": [
      "/Library/Frameworks/Python.framework/Versions/3.4/lib/python3.4/site-packages/ipykernel_launcher.py:16: RuntimeWarning: divide by zero encountered in double_scalars\n",
      "  app.launch_new_instance()\n"
     ]
    },
    {
     "data": {
      "image/png": "[encoded data removed]",
      "text/plain": [
       "<matplotlib.figure.Figure at 0x111248358>"
      ]
     },
     "metadata": {},
     "output_type": "display_data"
    }
   ],
   "source": [
    "plt.plot(pos,knn(pos,10))\n",
    "plt.show()"
   ]
  },
  {
   "cell_type": "markdown",
   "metadata": {},
   "source": [
    "# <center> Testing on data obtained using Normal Distribution </center>"
   ]
  },
  {
   "cell_type": "code",
   "execution_count": 17,
   "metadata": {},
   "outputs": [
    {
     "name": "stderr",
     "output_type": "stream",
     "text": [
      "/Library/Frameworks/Python.framework/Versions/3.4/lib/python3.4/site-packages/ipykernel_launcher.py:16: RuntimeWarning: divide by zero encountered in double_scalars\n",
      "  app.launch_new_instance()\n"
     ]
    },
    {
     "data": {
      "image/png": "[encoded data removed]",
      "text/plain": [
       "<matplotlib.figure.Figure at 0x1112b1a20>"
      ]
     },
     "metadata": {},
     "output_type": "display_data"
    }
   ],
   "source": [
    "rand_1 = np.random.normal(2,1,500) \n",
    "rand_1 = np.sort(rand_1)\n",
    "probability_density = np.zeros(np.size(rand_1))\n",
    "for i in range(0,np.size(rand_1)):\n",
    "    probability_density[i] = kernel(2,rand_1[i],1)\n",
    "plt.subplot(2,1,1)\n",
    "plt.plot(rand_1, probability_density,'b',label='original')\n",
    "plt.plot(rand_1,knn(rand_1,350),'r',label='estimated')\n",
    "plt.plot(rand_1, np.zeros(np.size(rand_1)), '|k',markeredgewidth=1)\n",
    "plt.legend()\n",
    "plt.show()"
   ]
  },
  {
   "cell_type": "markdown",
   "metadata": {},
   "source": [
    "# <center>Apply method</center>"
   ]
  },
  {
   "cell_type": "code",
   "execution_count": 18,
   "metadata": {
    "scrolled": true
   },
   "outputs": [
    {
     "name": "stdout",
     "output_type": "stream",
     "text": [
      "Question: Kernel/K-Nearest Neighborhood Density Estimators\n"
     ]
    },
    {
     "name": "stderr",
     "output_type": "stream",
     "text": [
      "/Library/Frameworks/Python.framework/Versions/3.4/lib/python3.4/site-packages/ipykernel_launcher.py:16: RuntimeWarning: divide by zero encountered in double_scalars\n",
      "  app.launch_new_instance()\n"
     ]
    },
    {
     "data": {
      "image/png": "[encoded data removed]",
      "text/plain": [
       "<matplotlib.figure.Figure at 0x1114780b8>"
      ]
     },
     "metadata": {},
     "output_type": "display_data"
    }
   ],
   "source": [
    "def parameters():\n",
    "    k = 50  # knn neighbors\n",
    "    h = 0.6  # kde windowsize / radius\n",
    "    return h, k\n",
    "\n",
    "\n",
    "def gauss1D(m, v, N, w):\n",
    "    pos = np.arange(-w, w - w / N, 2 * w / N)\n",
    "    insE = -0.5 * ((pos - m) / v) ** 2\n",
    "    norm = 1 / (v * np.sqrt(2 * np.pi))\n",
    "    res = norm * np.exp(insE)\n",
    "    realDensity = np.stack((pos, res), axis=1)\n",
    "    return realDensity\n",
    "\n",
    "\n",
    "h, k = parameters()\n",
    "\n",
    "print('Question: Kernel/K-Nearest Neighborhood Density Estimators')\n",
    "\n",
    "# Produce the random samples\n",
    "samples = np.random.normal(0, 1, 100)\n",
    "samples = np.sort(samples)\n",
    "\n",
    "# Compute the original normal distribution\n",
    "realDensity = gauss1D(0, 1, 100, 5)\n",
    "\n",
    "# Estimate the probability density using the KDE\n",
    "estDensity = kde(samples, h)\n",
    "\n",
    "# plot results\n",
    "plt.subplot(2, 1, 1)\n",
    "plt.plot(samples, estDensity, 'r', linewidth=1.5, label='KDE Estimated Distribution')\n",
    "plt.plot(realDensity[:, 0], realDensity[:, 1], 'b', linewidth=1.5, label='Real Distribution')\n",
    "plt.legend()\n",
    "\n",
    "# Estimate the probability density using KNN\n",
    "estDensity = knn(samples, k)\n",
    "\n",
    "# Plot the distributions\n",
    "plt.subplot(2, 1, 2)\n",
    "plt.plot(samples, estDensity, 'r', linewidth=1.5, label='KNN Estimated Distribution')\n",
    "plt.plot(realDensity[:, 0], realDensity[:, 1], 'b', linewidth=1.5, label='Real Distribution')\n",
    "plt.legend()\n",
    "plt.show()\n"
   ]
  },
  {
   "cell_type": "code",
   "execution_count": null,
   "metadata": {},
   "outputs": [],
   "source": []
  },
  {
   "cell_type": "code",
   "execution_count": null,
   "metadata": {},
   "outputs": [],
   "source": []
  }
 ],
 "metadata": {
  "kernelspec": {
   "display_name": "Python 3",
   "language": "python",
   "name": "python3"
  },
  "language_info": {
   "codemirror_mode": {
    "name": "ipython",
    "version": 3
   },
   "file_extension": ".py",
   "mimetype": "text/x-python",
   "name": "python",
   "nbconvert_exporter": "python",
   "pygments_lexer": "ipython3",
   "version": "3.4.3"
  }
 },
 "nbformat": 4,
 "nbformat_minor": 2
}
