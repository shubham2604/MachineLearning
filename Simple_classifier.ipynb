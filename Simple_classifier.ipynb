{
 "cells": [
  {
   "cell_type": "code",
   "execution_count": 1,
   "metadata": {},
   "outputs": [],
   "source": [
    "import numpy as np\n",
    "import pandas as pd\n",
    "from sklearn import datasets\n",
    "from scipy import io\n",
    "import matplotlib.pyplot as plt"
   ]
  },
  {
   "cell_type": "code",
   "execution_count": 2,
   "metadata": {},
   "outputs": [],
   "source": [
    "def simpleClassifier(X, y, weights):\n",
    "    theta_max = np.zeros(X.shape[1],dtype=np.int32)\n",
    "    theta_min = np.zeros(X.shape[1],dtype=np.int32)\n",
    "    threshold_ = np.zeros(X.shape[1],dtype=np.int32)\n",
    "    threshold = np.zeros(X.shape[1])\n",
    "    classification_error = np.zeros(X.shape[1])\n",
    "    sign = np.zeros(X.shape[1])\n",
    "    for i in range(X.shape[1]):\n",
    "        temp = np.zeros(X.shape[0])\n",
    "        indices = np.argsort(X[:,i])\n",
    "        sorted_X = np.sort(X[:,i])\n",
    "        sorted_targets = y[indices]\n",
    "        for j in range(X.shape[0]):\n",
    "            temp[j] = np.sum(sorted_targets[0:j+1])\n",
    "        theta_max[i] = np.max(temp)\n",
    "        theta_min[i] = np.min(temp)\n",
    "        \n",
    "        if(abs(theta_max[i])>abs(theta_min[i])):\n",
    "            threshold_[i] = np.argwhere(temp==theta_max[i])[0]\n",
    "            sign[i] = 1\n",
    "        else:\n",
    "            threshold_[i] = np.argwhere(temp==theta_min[i])[0]\n",
    "            sign[i] = -1\n",
    "        threshold[i] = sorted_X.flatten()[threshold_[i]]\n",
    "    for i in range(threshold.shape[0]):\n",
    "        hypo = np.zeros(X.shape[0])\n",
    "        hypo[sign[i]*X[:,i] < sign[i]*threshold[i]] = 1\n",
    "        hypo[hypo==0] = -1\n",
    "       \n",
    "        classification_error[i] = np.sum(hypo!=y.flatten())/X.shape[0]\n",
    "    print(classification_error)\n",
    "    dimension = np.argmin(classification_error)\n",
    "    parity_sign = sign[dimension]\n",
    "    threshold_value = threshold[dimension]\n",
    "    return dimension, threshold_value\n"
   ]
  },
  {
   "cell_type": "code",
   "execution_count": 3,
   "metadata": {},
   "outputs": [],
   "source": [
    "import matplotlib.pyplot as plt\n",
    "import numpy as np\n",
    "\n",
    "def plot_(X, Y, j, theta, text):\n",
    "\n",
    "    # Define some helper vars for plotting\n",
    "    number = len(Y)\n",
    "    xmin = min(X[:, 0])\n",
    "    xmax = max(X[:, 0])\n",
    "    ymin = min(X[:, 1])\n",
    "    ymax = max(X[:, 1])\n",
    "    \n",
    "    # Plot the classifier together with the data\n",
    "    plt.subplot()\n",
    "    plt.xlabel('X')\n",
    "    plt.ylabel('Y')\n",
    "    plt.title(text)\n",
    "    plt.axis([xmin, xmax, ymin, ymax])\n",
    "\n",
    "    plt.plot(X[:, 0:1][Y == 1], X[:, 1:2][Y == 1], c='b', marker='x', linestyle='none', markersize=5)\n",
    "    plt.plot(X[:, 0:1][Y == -1], X[:, 1:2][Y == -1], c='r', marker='o', linestyle='none', markersize=5,\n",
    "             fillstyle='none')\n",
    "\n",
    "    if j == 0:  # plot\n",
    "        a = np.arange(ymin, ymax, (ymax-ymin)/number)\n",
    "        plt.plot(np.ones(len(a))*theta, a, 'r-')\n",
    "    else:\n",
    "        a = np.arange(xmin, xmax, (xmax-xmin)/number)\n",
    "        plt.plot(a, np.ones(len(a))*theta, 'r-')\n"
   ]
  },
  {
   "cell_type": "code",
   "execution_count": 4,
   "metadata": {
    "scrolled": false
   },
   "outputs": [
    {
     "name": "stdout",
     "output_type": "stream",
     "text": [
      "[0.24 0.33]\n",
      "0\n",
      "-1.0161290322580643\n"
     ]
    },
    {
     "name": "stderr",
     "output_type": "stream",
     "text": [
      "/Users/shubham/miniconda3/envs/ml/lib/python3.6/site-packages/matplotlib/figure.py:98: MatplotlibDeprecationWarning: \n",
      "Adding an axes using the same arguments as a previous axes currently reuses the earlier instance.  In a future version, a new instance will always be created and returned.  Meanwhile, this warning can be suppressed, and the future behavior ensured, by passing a unique label to each axes instance.\n",
      "  \"Adding an axes using the same arguments as a previous axes \"\n"
     ]
    },
    {
     "data": {
      "image/png": "[encoded data removed]",
      "text/plain": [
       "<Figure size 432x288 with 1 Axes>"
      ]
     },
     "metadata": {
      "needs_background": "light"
     },
     "output_type": "display_data"
    }
   ],
   "source": [
    "syn = io.loadmat('q1_adaboost_python/synthetic')  # ... or load existing dataset\n",
    "X = syn['X']\n",
    "Y = syn['Y']\n",
    "# b) Simple weak classifier training\n",
    "initial_weights = np.zeros(X.shape[0])\n",
    "initial_weights[:] = 0\n",
    "j, theta = simpleClassifier(X, Y, initial_weights)\n",
    "print(j)\n",
    "print(theta)\n",
    "plt.subplot()\n",
    "plot_(X, Y, j, theta, 'Simple weak linear classifier')\n",
    "plt.show()"
   ]
  }
 ],
 "metadata": {
  "kernelspec": {
   "display_name": "Python 3",
   "language": "python",
   "name": "python3"
  },
  "language_info": {
   "codemirror_mode": {
    "name": "ipython",
    "version": 3
   },
   "file_extension": ".py",
   "mimetype": "text/x-python",
   "name": "python",
   "nbconvert_exporter": "python",
   "pygments_lexer": "ipython3",
   "version": "3.4.3"
  }
 },
 "nbformat": 4,
 "nbformat_minor": 2
}
