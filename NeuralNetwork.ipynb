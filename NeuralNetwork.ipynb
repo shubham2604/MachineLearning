{
 "cells": [
  {
   "cell_type": "code",
   "execution_count": 1,
   "metadata": {},
   "outputs": [],
   "source": [
    "import numpy as np\n",
    "import pandas as pd"
   ]
  },
  {
   "cell_type": "code",
   "execution_count": 265,
   "metadata": {},
   "outputs": [],
   "source": [
    "######give matrix as an Input######\n",
    "###### only gives softmax along rows #######\n",
    "def softmax(x):\n",
    "    x = x.transpose()\n",
    "    maxima = np.amax(x,axis=0)\n",
    "    x = x-maxima\n",
    "    numerator = np.exp(x)\n",
    "    return (numerator/numerator.sum(axis=0)).transpose()"
   ]
  },
  {
   "cell_type": "code",
   "execution_count": 3,
   "metadata": {},
   "outputs": [],
   "source": [
    "######give column vector as an Input######\n",
    "\n",
    "def softmaxJacobian(x):\n",
    "    return np.diag(x)-np.outer(x,x)"
   ]
  },
  {
   "cell_type": "code",
   "execution_count": 4,
   "metadata": {},
   "outputs": [],
   "source": [
    "def createOneHotVectors(x):\n",
    "    mat = np.zeros((x.shape[0],np.max(np.array(x))+1))\n",
    "    mat[np.arange(x.shape[0]),x.flatten()] = 1\n",
    "    return mat"
   ]
  },
  {
   "cell_type": "code",
   "execution_count": 5,
   "metadata": {},
   "outputs": [],
   "source": [
    "Train_data = np.array(pd.read_csv('mnist/mnist-train-data.csv',sep = \" \",header = None))\n",
    "Train_data = Train_data/255\n",
    "Train_labels = createOneHotVectors(np.array(pd.read_csv('mnist/mnist-train-labels.csv',sep = \" \",header = None)))\n",
    "Test_data = np.array(pd.read_csv('mnist/mnist-test-data.csv',sep = \" \",header = None))\n",
    "Test_labels = createOneHotVectors(np.array(pd.read_csv('mnist/mnist-test-labels.csv',sep = \" \",header = None)))\n",
    "CV_data = np.array(pd.read_csv('mnist/mnist-valid-data.csv',sep = \" \",header = None))\n",
    "CV_labels = createOneHotVectors(np.array(pd.read_csv('mnist/mnist-valid-labels.csv',sep = \" \",header = None)))"
   ]
  },
  {
   "cell_type": "code",
   "execution_count": 6,
   "metadata": {},
   "outputs": [],
   "source": [
    "############ Don't apply softmax before calculating the loss, it is already embedded in the the method###########\n",
    "\n",
    "def crossEntropyLoss_stable(Hypothesis,y):\n",
    "    maxima_for_loss = np.amax(Hypothesis,axis=1)\n",
    "    Hypothesis1 = (Hypothesis.transpose() - maxima_for_loss).transpose()\n",
    "    Hypothesis2 = (Hypothesis1.transpose() - np.log(np.exp(Hypothesis1).sum(axis=1))).transpose()\n",
    "    return -np.sum(np.multiply(y,Hypothesis2))"
   ]
  },
  {
   "cell_type": "code",
   "execution_count": 41,
   "metadata": {},
   "outputs": [],
   "source": [
    "############ Apply softmax before calculating the loss, it is already embedded in the the method###########\n",
    "\n",
    "\n",
    "def crossEntropyLoss(Hypothesis,y):\n",
    "    #print(Hypothesis.shape)\n",
    "    #print(np.matrix(y).shape)\n",
    "    #return np.sum(np.log(Hypothesis+1e-10)* (np.matrix(y)), axis=1)\n",
    "    return - np.sum(np.multiply(np.log(Hypothesis+1e-10) , (y)), axis=1)"
   ]
  },
  {
   "cell_type": "code",
   "execution_count": 14,
   "metadata": {},
   "outputs": [],
   "source": [
    "######## X should be in a row vector, W should be in column vector, B should be row vector ##########\n",
    "def fprop(X,W,B):\n",
    "    return np.matmul(X,W)+B"
   ]
  },
  {
   "cell_type": "code",
   "execution_count": 266,
   "metadata": {},
   "outputs": [],
   "source": [
    "def gradientCrossEntropy(Hypothesis,y):\n",
    "    return -y/Hypothesis"
   ]
  },
  {
   "cell_type": "code",
   "execution_count": 272,
   "metadata": {},
   "outputs": [],
   "source": [
    "initial_bias = np.zeros((1,Train_labels.shape[1]))\n",
    "variance = np.sqrt(2/(Train_data.shape[1]+Train_labels.shape[1]))\n",
    "initial_weights = np.random.normal(0,variance,Train_data.shape[1]*Train_labels.shape[1])\n",
    "initial_weights = initial_weights.reshape(Train_data.shape[1],Train_labels.shape[1])\n",
    "loss_ = np.zeros(Train_data.shape[0])\n",
    "cost = np.zeros(10)"
   ]
  },
  {
   "cell_type": "code",
   "execution_count": 273,
   "metadata": {},
   "outputs": [
    {
     "name": "stdout",
     "output_type": "stream",
     "text": [
      "0\n",
      "1\n",
      "2\n",
      "3\n",
      "4\n",
      "5\n",
      "6\n",
      "7\n",
      "8\n",
      "9\n"
     ]
    }
   ],
   "source": [
    "cost = np.zeros(10)\n",
    "for j in range(10):\n",
    "    print(j)\n",
    "    for i in range(Train_data.shape[0]):\n",
    "        Temp = fprop(Train_data[i],initial_weights,initial_bias)\n",
    "        hypothesis = softmax(Temp)\n",
    "        #print(hypothesis)\n",
    "        #gradientLoss = gradientCrossEntropy(hypothesis,Train_labels[i])\n",
    "        #print(gradientLoss.shape)\n",
    "        #gradientSoftmax = softmaxJacobian(hypothesis)\n",
    "        #grandientLoss = np.matmul(gradientLoss,gradientSoftmax)\n",
    "        Weight_grad = np.matmul(np.matrix(Train_data[i]).transpose(),hypothesis-Train_labels[i])\n",
    "        initial_weights = initial_weights - 0.001 * Weight_grad\n",
    "        initial_bias = initial_bias - 0.001 * (hypothesis-Train_labels[i])\n",
    "        loss_[i] = crossEntropyLoss(hypothesis,Train_labels[i])\n",
    "        cost[j] = np.mean(loss_)"
   ]
  },
  {
   "cell_type": "code",
   "execution_count": 274,
   "metadata": {},
   "outputs": [
    {
     "data": {
      "image/png": "[encoded data removed]",
      "text/plain": [
       "<Figure size 432x288 with 1 Axes>"
      ]
     },
     "metadata": {
      "needs_background": "light"
     },
     "output_type": "display_data"
    }
   ],
   "source": [
    "import matplotlib.pyplot as plt\n",
    "plt.plot(cost)\n",
    "plt.show()"
   ]
  },
  {
   "cell_type": "code",
   "execution_count": 275,
   "metadata": {},
   "outputs": [
    {
     "data": {
      "text/plain": [
       "0.923"
      ]
     },
     "execution_count": 275,
     "metadata": {},
     "output_type": "execute_result"
    }
   ],
   "source": [
    "1-(np.count_nonzero(np.argmax(CV_labels,axis=1).reshape(1,10000)  != np.argmax(softmax(np.matmul(CV_data/255,initial_weights)+initial_bias),axis=1).flatten())/10000)\n"
   ]
  },
  {
   "cell_type": "code",
   "execution_count": 278,
   "metadata": {},
   "outputs": [
    {
     "data": {
      "text/plain": [
       "770"
      ]
     },
     "execution_count": 278,
     "metadata": {},
     "output_type": "execute_result"
    }
   ],
   "source": [
    "np.count_nonzero(np.argmax(CV_labels,axis=1).reshape(1,10000)  != np.argmax(softmax(np.matmul(CV_data/255,initial_weights)+initial_bias),axis=1).flatten())"
   ]
  },
  {
   "cell_type": "code",
   "execution_count": 284,
   "metadata": {},
   "outputs": [
    {
     "data": {
      "text/plain": [
       "matrix([[-1.00000008e-10],\n",
       "        [-1.00000008e-10],\n",
       "        [-1.00000008e-10]])"
      ]
     },
     "execution_count": 284,
     "metadata": {},
     "output_type": "execute_result"
    }
   ],
   "source": [
    "a = np.matrix([[1,0,0],[0,1,0],[0,0,1]])\n",
    "b =  np.matrix([[1000,100,10],[20,100,10],[10,344,1231231]])\n",
    "\n",
    "crossEntropyLoss(a,softmax(b))"
   ]
  },
  {
   "cell_type": "code",
   "execution_count": null,
   "metadata": {},
   "outputs": [],
   "source": []
  },
  {
   "cell_type": "code",
   "execution_count": null,
   "metadata": {},
   "outputs": [],
   "source": []
  }
 ],
 "metadata": {
  "kernelspec": {
   "display_name": "Python 3",
   "language": "python",
   "name": "python3"
  },
  "language_info": {
   "codemirror_mode": {
    "name": "ipython",
    "version": 3
   },
   "file_extension": ".py",
   "mimetype": "text/x-python",
   "name": "python",
   "nbconvert_exporter": "python",
   "pygments_lexer": "ipython3",
   "version": "3.5.5"
  }
 },
 "nbformat": 4,
 "nbformat_minor": 2
}
