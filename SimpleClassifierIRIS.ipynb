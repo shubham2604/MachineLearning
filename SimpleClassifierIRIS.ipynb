{
 "cells": [
  {
   "cell_type": "code",
   "execution_count": 1,
   "metadata": {},
   "outputs": [],
   "source": [
    "import numpy as np\n",
    "import pandas as pd\n",
    "from sklearn import datasets\n",
    "from scipy import io\n",
    "import matplotlib.pyplot as plt"
   ]
  },
  {
   "cell_type": "code",
   "execution_count": 12,
   "metadata": {},
   "outputs": [],
   "source": [
    "iris = datasets.load_iris()\n",
    "X = iris.data[0:100,0:2]\n",
    "y = iris.target[0:100]\n",
    "y[(y[:]==1).flatten()] = -1\n",
    "y[(y[:]==0).flatten()] = 1"
   ]
  },
  {
   "cell_type": "code",
   "execution_count": 21,
   "metadata": {},
   "outputs": [],
   "source": [
    "import matplotlib.pyplot as plt\n",
    "import numpy as np\n",
    "\n",
    "def plot_(X, Y, j, theta, text):\n",
    "\n",
    "    # Define some helper vars for plotting\n",
    "    number = len(Y)\n",
    "    xmin =  min(X[:, 0])\n",
    "    xmax =  max(X[:, 0])\n",
    "    ymin =  min(X[:, 1])\n",
    "    ymax =  max(X[:, 1])\n",
    "    \n",
    "    # Plot the classifier together with the data\n",
    "    plt.subplot()\n",
    "    plt.xlabel('X')\n",
    "    plt.ylabel('Y')\n",
    "    plt.title(text)\n",
    "    plt.axis([xmin, xmax, ymin, ymax])\n",
    "\n",
    "    plt.plot(X[:, 0:1][Y == 1], X[:, 1:2][Y == 1], c='b', marker='x', linestyle='none', markersize=5)\n",
    "    plt.plot(X[:, 0:1][Y == -1], X[:, 1:2][Y == -1], c='r', marker='o', linestyle='none', markersize=5,\n",
    "             fillstyle='none')\n",
    "\n",
    "    if j == 1:  # plot\n",
    "        a = np.arange(ymin, ymax, (ymax-ymin)/number)\n",
    "        plt.plot(np.ones(len(a))*theta, a, 'r-')\n",
    "    else:\n",
    "        a = np.arange(xmin, xmax, (xmax-xmin)/number)\n",
    "        plt.plot(a, np.ones(len(a))*theta, 'r-')\n"
   ]
  },
  {
   "cell_type": "code",
   "execution_count": 22,
   "metadata": {},
   "outputs": [
    {
     "name": "stdout",
     "output_type": "stream",
     "text": [
      "0\n",
      "3.0\n"
     ]
    },
    {
     "data": {
      "image/png": "[encoded data removed]",
      "text/plain": [
       "<Figure size 432x288 with 1 Axes>"
      ]
     },
     "metadata": {
      "needs_background": "light"
     },
     "output_type": "display_data"
    }
   ],
   "source": [
    "theta_max = np.zeros(X.shape[1])\n",
    "theta_min = np.zeros(X.shape[1])\n",
    "threshold_ = np.zeros(X.shape[1],dtype=np.int32)\n",
    "threshold = np.zeros(X.shape[1])\n",
    "sign = np.zeros(X.shape[1])\n",
    "for i in range(X.shape[1]):\n",
    "    temp = np.zeros(X.shape[0])\n",
    "    indices = np.argsort(X[:,i])\n",
    "    sorted_X = np.sort(X[:,i])\n",
    "    sorted_targets = y[indices]\n",
    "    for j in range(X.shape[0]):\n",
    "        temp[j] = np.sum(sorted_targets[0:j+1])    \n",
    "    theta_max[i] = np.max(temp)\n",
    "    theta_min[i] = np.min(temp)\n",
    "    if(abs(theta_max[i])>abs(theta_min[i])):\n",
    "        threshold_[i] = np.argwhere(temp==theta_max[i])\n",
    "        sign[i] = 1\n",
    "    else:\n",
    "        threshold_[i] = np.argwhere(temp==theta_min[i])\n",
    "        sign[i] = -1\n",
    "    threshold[i] = sorted_X.flatten()[threshold_[i]]\n",
    "classification_error = np.zeros(X.shape[1])\n",
    "\n",
    "for i in range(threshold.shape[0]):\n",
    "    hypo = np.zeros(X.shape[0])\n",
    "    hypo[sign[i]*X[:,i] < sign[i]*threshold[i]] = 1\n",
    "    hypo[hypo==0] = -1\n",
    "    classification_error[i] = np.sum(hypo!=y)/X.shape[0]\n",
    "dimension = np.argmin(classification_error)\n",
    "parity_sign = sign[dimension]\n",
    "threshold_value = threshold[1]\n",
    "\n",
    "\n",
    "print(dimension)\n",
    "print(threshold_value)\n",
    "\n",
    "plt.subplot()\n",
    "plot_(X, y, dimension, threshold_value, 'Simple weak linear classifier')\n",
    "plt.show()\n"
   ]
  },
  {
   "cell_type": "code",
   "execution_count": null,
   "metadata": {},
   "outputs": [],
   "source": []
  }
 ],
 "metadata": {
  "kernelspec": {
   "display_name": "Python 3",
   "language": "python",
   "name": "python3"
  },
  "language_info": {
   "codemirror_mode": {
    "name": "ipython",
    "version": 3
   },
   "file_extension": ".py",
   "mimetype": "text/x-python",
   "name": "python",
   "nbconvert_exporter": "python",
   "pygments_lexer": "ipython3",
   "version": "3.6.6"
  }
 },
 "nbformat": 4,
 "nbformat_minor": 2
}
