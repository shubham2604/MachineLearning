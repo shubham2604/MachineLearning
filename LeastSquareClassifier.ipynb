{
 "cells": [
  {
   "cell_type": "code",
   "execution_count": 1,
   "metadata": {},
   "outputs": [],
   "source": []
  },
  {
   "cell_type": "code",
   "execution_count": 3,
   "metadata": {},
   "outputs": [],
   "source": [
    "def linclass(weight, data):\n",
    "    data = np.insert(data,0,1,axis=1)\n",
    "    class_pred = np.matmul(data,weight)\n",
    "    class_pred[class_pred.flatten()>0,:] = 1\n",
    "    class_pred[class_pred.flatten()<0,:] = -1\n",
    "    return class_pred"
   ]
  },
  {
   "cell_type": "code",
   "execution_count": 5,
   "metadata": {},
   "outputs": [],
   "source": [
    "import numpy as np\n",
    "\n",
    "\n",
    "def leastSquares(data, label):\n",
    "    # Sum of squared error shoud be minimized\n",
    "    #\n",
    "    # INPUT:\n",
    "    # data        : Training inputs  (num_samples x dim)\n",
    "    # label       : Training targets (num_samples x 1)\n",
    "    #\n",
    "    # OUTPUT:\n",
    "    # weights     : weights   (dim x 1)\n",
    "    # bias        : bias term (scalar)\n",
    "\n",
    "    #####Start Subtask 1a#####\n",
    "    # Extend each datapoint x as [1, x]\n",
    "    # (Trick to avoid modeling the bias term explicitly)\n",
    "    num_samples = len(data)\n",
    "    data = np.concatenate((np.ones((num_samples, 1)), data), axis=1)  # before: (38x2), now: (38x3)\n",
    "\n",
    "    # Take the pseudo inverse\n",
    "    weight = np.linalg.lstsq((data.T.dot(data)),data.T)[0].dot(label) # inv(A)*b = A\\b shape: (3, 1)  # Form the output\n",
    "\n",
    "    bias = weight[0]  # get bias\n",
    "    weight = weight[1:]  # get weights\n",
    "\n",
    "    #####End Subtask#####\n",
    "    return weight, bias\n"
   ]
  },
  {
   "cell_type": "code",
   "execution_count": null,
   "metadata": {},
   "outputs": [],
   "source": [
    "def simpleClassifier(X, y, weights):\n",
    "   \n",
    "    \n",
    "    classification_error = np.zeros(X.shape[1])\n",
    "    for i in range(X.shape[1]):\n",
    "        temp = np.zeros(X.shape[0])\n",
    "        indices = np.argsort(X[:,i])\n",
    "        sorted_X = np.sort(X[:,i])\n",
    "        sorted_targets = y[indices]\n",
    "        sorted_weights = weights[indices]\n",
    "        for j in range(X.shape[0]):\n",
    "            temp[j] = np.sum(sorted_weights[0:j+1] * sorted_targets[0:j+1])\n",
    "        theta_max[i] = np.max(temp)\n",
    "        theta_min[i] = np.min(temp)\n",
    "        #print(temp)\n",
    "    \n",
    "        if(abs(theta_max[i])>abs(theta_min[i])):\n",
    "            threshold_[i] = np.argmax(temp)\n",
    "            sign[i] = 1\n",
    "        else:\n",
    "            threshold_[i] = np.argmin(temp)\n",
    "            sign[i] = -1\n",
    "        threshold[i] = sorted_X.flatten()[threshold_[i]]\n",
    "       \n",
    "\n",
    "    for i in range(threshold.shape[0]):\n",
    "        hypo = np.zeros(X.shape[0])\n",
    "        hypo[sign[i]*X[:,i] <= sign[i]*threshold[i]] = 1\n",
    "        hypo[hypo==0] = -1\n",
    "        indicator = hypo!=y.flatten()\n",
    "        indicator = indicator.astype(int)\n",
    "        #print((np.matmul(weights.transpose(),indicator)/np.sum(weights)).shape)\n",
    "        classification_error[i] = np.matmul(weights.transpose(),indicator)/np.sum(weights)\n",
    "    \n",
    "    dimension = np.argmin(classification_error)\n",
    "    parity_sign = sign[dimension]\n",
    "    threshold_value = threshold[dimension]\n",
    "    epsilon = classification_error[dimension]\n",
    "    alpha = math.log((1-epsilon)/epsilon)\n",
    "    hypothesis = np.zeros(X.shape[0])\n",
    "    hypothesis[sign[dimension]*X[:,dimension] <= sign[dimension]*threshold[dimension]] = 1\n",
    "    hypothesis[hypothesis==0] = -1\n",
    "    indicator_ = hypothesis!=y.flatten()\n",
    "    indicator_ = indicator_.astype(int)\n",
    "\n",
    "    updated_weights = np.multiply(weights.flatten(),np.exp(np.multiply(alpha,indicator_)))\n",
    "    return dimension, threshold_value, updated_weights, alpha"
   ]
  }
 ],
 "metadata": {
  "kernelspec": {
   "display_name": "Python 3",
   "language": "python",
   "name": "python3"
  },
  "language_info": {
   "codemirror_mode": {
    "name": "ipython",
    "version": 3
   },
   "file_extension": ".py",
   "mimetype": "text/x-python",
   "name": "python",
   "nbconvert_exporter": "python",
   "pygments_lexer": "ipython3",
   "version": "3.6.6"
  }
 },
 "nbformat": 4,
 "nbformat_minor": 2
}
