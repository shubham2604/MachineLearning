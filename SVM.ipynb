{
 "cells": [
  {
   "cell_type": "code",
   "execution_count": 2,
   "metadata": {},
   "outputs": [],
   "source": [
    "import numpy as np\n",
    "import matplotlib.pyplot as plt\n",
    "from cvxopt import matrix as cvxopt_matrix\n",
    "from cvxopt import solvers as cvxopt_solvers\n",
    "import pandas as pd\n",
    "from scipy.spatial.distance import pdist\n",
    "from sklearn.metrics.pairwise import pairwise_kernels,rbf_kernel,polynomial_kernel\n",
    "from sklearn.metrics import f1_score,accuracy_score"
   ]
  },
  {
   "cell_type": "markdown",
   "metadata": {},
   "source": [
    "# <center>Load data</center>"
   ]
  },
  {
   "cell_type": "code",
   "execution_count": 3,
   "metadata": {},
   "outputs": [],
   "source": [
    "lc_train_data = pd.read_csv('exercise-02/q1_leastSquare_linear_classifier_python/lc_train_data.dat', sep=\" \", header=None)\n",
    "lc_train_label = pd.read_csv('exercise-02/q1_leastSquare_linear_classifier_python/lc_train_label.dat', header=None)\n",
    "lc_test_data = pd.read_csv('exercise-02/q1_leastSquare_linear_classifier_python/lc_test_data.dat', sep=\" \", header=None)\n",
    "lc_test_label = pd.read_csv('exercise-02/q1_leastSquare_linear_classifier_python/lc_test_label.dat', header=None)\n",
    "\n",
    "lc_train_data = np.array(lc_train_data)\n",
    "lc_test_data = np.array(lc_test_data)\n",
    "lc_train_label = np.array(lc_train_label)\n",
    "lc_test_label = np.array(lc_test_label)"
   ]
  },
  {
   "cell_type": "markdown",
   "metadata": {},
   "source": [
    "# <center>Linear SVM</center>"
   ]
  },
  {
   "cell_type": "code",
   "execution_count": 4,
   "metadata": {},
   "outputs": [],
   "source": [
    "def svmlin(X, t, C):\n",
    "\n",
    "    H = pairwise_kernels(X,metric='linear')\n",
    "    multiplier = np.matmul(t,t.transpose())\n",
    "    H = np.multiply(H,multiplier)\n",
    "    P = cvxopt_matrix(H)\n",
    "    \n",
    "    q = cvxopt_matrix((-1)* np.ones(X.shape[0]))\n",
    "    G = cvxopt_matrix(np.vstack((-np.eye(H.shape[0]), np.eye(H.shape[0]))))\n",
    "    ub = np.ones((H.shape[0])) * C\n",
    "    lb = np.zeros((H.shape[0]))\n",
    "    h = cvxopt_matrix(np.hstack([lb,ub]))\n",
    "    A = t.reshape(1, -1)\n",
    "    A = cvxopt_matrix(A, (1, A.shape[1]), 'd')\n",
    "    b = cvxopt_matrix(np.zeros(1))\n",
    "    \n",
    "    sol = cvxopt_solvers.qp(P, q, G, h, A, b)\n",
    "    \n",
    "    a = np.array(sol['x'])\n",
    "    sv = X[a.flatten()>1e-3,:]\n",
    "    w = np.matmul((t * a).transpose(),X)\n",
    "    print(w.shape)\n",
    "    print(X.shape)\n",
    "    count = sv.shape[0]\n",
    "    b = np.sum(t[a.flatten()>1e-3,:] - np.matmul(sv,w.transpose()))\n",
    "    b /= count\n",
    "    \n",
    "    classification = np.matmul(X, w.transpose()) +b\n",
    "\n",
    "    for i in range(X.shape[0]):\n",
    "        if(classification[i]>0):\n",
    "            classification[i] = 1\n",
    "        elif(classification[i]<0):\n",
    "            classification[i] = -1\n",
    "            \n",
    "    return a,sv,w,b,classification"
   ]
  },
  {
   "cell_type": "markdown",
   "metadata": {},
   "source": [
    " # <center>NonLinear SVM Using polynomial Kernenl</center>"
   ]
  },
  {
   "cell_type": "code",
   "execution_count": 5,
   "metadata": {},
   "outputs": [],
   "source": [
    "def svmnonlin_pol(X, t, C,p):\n",
    "\n",
    "    H = polynomial_kernel(X,degree=p)\n",
    "    multiplier = np.matmul(t,t.transpose())\n",
    "    H = np.multiply(H,multiplier)\n",
    "    P = cvxopt_matrix(H)\n",
    "    \n",
    "    q = cvxopt_matrix((-1)* np.ones(X.shape[0]))\n",
    "    G = cvxopt_matrix(np.vstack((-np.eye(H.shape[0]), np.eye(H.shape[0]))))\n",
    "    ub = np.ones((H.shape[0])) * C\n",
    "    lb = np.zeros((H.shape[0]))\n",
    "    h = cvxopt_matrix(np.hstack([lb,ub]))\n",
    "    A = t.reshape(1, -1)\n",
    "    A = cvxopt_matrix(A, (1, A.shape[1]), 'd')\n",
    "    b = cvxopt_matrix(np.zeros(1))\n",
    "    \n",
    "    sol = cvxopt_solvers.qp(P, q, G, h, A, b)\n",
    "    a = np.array(sol['x'])\n",
    "    sv = X[a.flatten()>1e-3,:]\n",
    "    w = np.matmul((t * a).transpose(),X)\n",
    "    count = sv.shape[0]\n",
    "    b = np.sum(t[a.flatten()>1e-3,:] - np.matmul(sv,w.transpose()))\n",
    "    b /= count\n",
    "    \n",
    "    classification = np.matmul((t*a).transpose(),polynomial_kernel(X,degree=p))+b\n",
    "    classification = classification.transpose()\n",
    "    print(classification.shape)\n",
    "    for i in range(X.shape[0]):\n",
    "        if(classification[i]>0):\n",
    "            classification[i] = 1\n",
    "        elif(classification[i]<0):\n",
    "            classification[i] = -1\n",
    "            \n",
    "    return a,sv,w,b,classification"
   ]
  },
  {
   "cell_type": "markdown",
   "metadata": {},
   "source": [
    "# <center>NonLinear SVM using Gaussian Kernel(Radial basis function)</center> "
   ]
  },
  {
   "cell_type": "code",
   "execution_count": 6,
   "metadata": {},
   "outputs": [],
   "source": [
    "def svmnonlin_gaussian(X, t, C, var):\n",
    "\n",
    "    H = rbf_kernel(X,gamma=var)\n",
    "    multiplier = np.matmul(t,t.transpose())\n",
    "    H = np.multiply(H,multiplier)\n",
    "    P = cvxopt_matrix(H)\n",
    "    \n",
    "    q = cvxopt_matrix((-1)* np.ones(X.shape[0]))\n",
    "    G = cvxopt_matrix(np.vstack((-np.eye(H.shape[0]), np.eye(H.shape[0]))))\n",
    "    ub = np.ones((H.shape[0])) * C\n",
    "    lb = np.zeros((H.shape[0]))\n",
    "    h = cvxopt_matrix(np.hstack([lb,ub]))\n",
    "    A = t.reshape(1, -1)\n",
    "    A = cvxopt_matrix(A, (1, A.shape[1]), 'd')\n",
    "    b = cvxopt_matrix(np.zeros(1))\n",
    "    \n",
    "    sol = cvxopt_solvers.qp(P, q, G, h, A, b)\n",
    "    \n",
    "    a = np.array(sol['x'])\n",
    "    sv = X[a.flatten()>1e-3,:]\n",
    "    w = np.matmul((t * a).transpose(),X)\n",
    "    count = sv.shape[0]\n",
    "    b = np.sum(t[a.flatten()>1e-3,:] - np.matmul(sv,w.transpose()))\n",
    "    b /= count\n",
    "    classification =  np.mutmul((t*a).transpose(),rbf_kernel(X,gamma=var)) +b\n",
    "    classification = classification.transpose()\n",
    "    for i in range(X.shape[0]):\n",
    "        if(classification[i]>0):\n",
    "            classification[i] = 1\n",
    "        elif(classification[i]<0):\n",
    "            classification[i] = -1\n",
    "            \n",
    "    return a,sv,w,b,classification"
   ]
  },
  {
   "cell_type": "markdown",
   "metadata": {},
   "source": [
    "#  <center>Training given data using polynomial Kernel</center>"
   ]
  },
  {
   "cell_type": "code",
   "execution_count": 8,
   "metadata": {
    "scrolled": false
   },
   "outputs": [
    {
     "name": "stdout",
     "output_type": "stream",
     "text": [
      "     pcost       dcost       gap    pres   dres\n",
      " 0:  1.7042e+04 -1.3052e+05  1e+05  2e-13  4e-14\n",
      " 1:  5.4309e+03 -1.0003e+04  2e+04  1e-13  3e-14\n",
      " 2:  7.8331e+02 -1.4964e+03  2e+03  4e-14  2e-14\n",
      " 3:  5.5264e+01 -2.4480e+02  3e+02  6e-14  1e-14\n",
      " 4: -1.6617e+01 -1.3603e+02  1e+02  9e-15  5e-15\n",
      " 5: -8.2259e+01 -1.6792e+02  9e+01  3e-14  6e-15\n",
      " 6: -8.9984e+01 -1.3922e+02  5e+01  1e-14  7e-15\n",
      " 7: -1.0950e+02 -1.1870e+02  9e+00  3e-14  7e-15\n",
      " 8: -1.1327e+02 -1.1396e+02  7e-01  7e-15  6e-15\n",
      " 9: -1.1342e+02 -1.1353e+02  1e-01  2e-14  8e-15\n",
      "10: -1.1347e+02 -1.1347e+02  2e-03  1e-14  7e-15\n",
      "11: -1.1347e+02 -1.1347e+02  2e-05  2e-14  8e-15\n",
      "Optimal solution found.\n",
      "(1, 2)\n",
      "(38, 2)\n"
     ]
    },
    {
     "data": {
      "image/png": "[encoded data removed]",
      "text/plain": [
       "<Figure size 432x288 with 1 Axes>"
      ]
     },
     "metadata": {
      "needs_background": "light"
     },
     "output_type": "display_data"
    },
    {
     "name": "stdout",
     "output_type": "stream",
     "text": [
      "[[2.34891034e-07]\n",
      " [2.22281417e-07]\n",
      " [2.59393401e-07]\n",
      " [3.64772487e-07]\n",
      " [3.22699352e-07]\n",
      " [9.46226622e-08]\n",
      " [9.99999960e+01]\n",
      " [2.79333019e-07]\n",
      " [7.59846827e-07]\n",
      " [1.83238692e-07]\n",
      " [2.21200878e-07]\n",
      " [5.25512843e-08]\n",
      " [8.28888466e-08]\n",
      " [6.44046032e-08]\n",
      " [5.66388582e-08]\n",
      " [4.16789941e-08]\n",
      " [9.28679719e-08]\n",
      " [1.18807356e-07]\n",
      " [1.30063318e-07]\n",
      " [7.63536526e-08]\n",
      " [9.91437687e+01]\n",
      " [2.67241691e-07]\n",
      " [2.47966901e-07]\n",
      " [2.17481727e-07]\n",
      " [5.96803559e-07]\n",
      " [8.56227129e-01]\n",
      " [1.11465357e-06]\n",
      " [8.06542373e-07]\n",
      " [1.45916211e-07]\n",
      " [5.51483833e-08]\n",
      " [3.93589394e-08]\n",
      " [5.89711843e-08]\n",
      " [3.65372904e-08]\n",
      " [2.04475588e-08]\n",
      " [2.18540429e-08]\n",
      " [5.38910211e-08]\n",
      " [5.05022551e-08]\n",
      " [1.00274804e-07]]\n"
     ]
    }
   ],
   "source": [
    "a,sv,w,b,classification = svmlin(lc_train_data,lc_train_label,100)\n",
    "plt.scatter(lc_train_data[lc_train_label.flatten()==1,0], lc_train_data[lc_train_label.flatten()==1,1], c = 'c')\n",
    "plt.scatter(lc_train_data[lc_train_label.flatten()==-1,0], lc_train_data[lc_train_label.flatten()==-1,1], c = 'm')\n",
    "plt.scatter(sv[:,0],sv[:,1],c = 'r')\n",
    "plt.show()\n",
    "print(a)"
   ]
  },
  {
   "cell_type": "markdown",
   "metadata": {},
   "source": [
    "\n",
    "\n",
    "# <center>Classifying test data using Weights calculated above</center>"
   ]
  },
  {
   "cell_type": "code",
   "execution_count": 7,
   "metadata": {},
   "outputs": [
    {
     "name": "stdout",
     "output_type": "stream",
     "text": [
      "[[  1.42357098]\n",
      " [  0.33761199]\n",
      " [ -0.46367057]\n",
      " [  3.03510829]\n",
      " [  0.96896973]\n",
      " [  0.21343496]\n",
      " [  2.59546773]\n",
      " [  3.77004808]\n",
      " [ -0.28070572]\n",
      " [ -1.61348107]\n",
      " [ -2.16076222]\n",
      " [ -2.8265784 ]\n",
      " [ -2.94531337]\n",
      " [ -3.57901723]\n",
      " [ -3.84333262]\n",
      " [ -3.28720536]\n",
      " [ -3.22698231]\n",
      " [ -3.17812943]\n",
      " [ -2.76525314]\n",
      " [ -1.16206289]\n",
      " [ -0.87961675]\n",
      " [ -1.41490356]\n",
      " [ -1.57209356]\n",
      " [ -8.10567319]\n",
      " [-15.39150371]\n",
      " [-28.08209059]\n",
      " [-30.23453509]\n",
      " [-14.58558803]\n",
      " [-10.24024607]\n",
      " [-15.49707056]\n",
      " [ -5.11344448]\n",
      " [ -9.68159286]\n",
      " [  9.48744136]\n",
      " [  5.49493341]\n",
      " [ 10.10062733]\n",
      " [  3.85835791]\n",
      " [  2.23847211]]\n"
     ]
    },
    {
     "data": {
      "image/png": "[encoded data removed]",
      "text/plain": [
       "<Figure size 432x288 with 1 Axes>"
      ]
     },
     "metadata": {
      "needs_background": "light"
     },
     "output_type": "display_data"
    },
    {
     "data": {
      "text/plain": [
       "0.9459459459459459"
      ]
     },
     "execution_count": 7,
     "metadata": {},
     "output_type": "execute_result"
    }
   ],
   "source": [
    "test_classification = np.matmul(polynomial_kernel(lc_test_data,lc_train_data,degree=18),(lc_train_label*a)) + b\n",
    "print(test_classification)\n",
    "for i in range(test_classification.shape[0]):\n",
    "    if(test_classification[i]>0):\n",
    "        test_classification[i] = 1\n",
    "    elif(test_classification[i]<0):\n",
    "        test_classification[i] = -1\n",
    "plt.scatter(lc_test_data[test_classification.flatten()==1,0], lc_test_data[test_classification.flatten()==1,1], c = 'c')\n",
    "plt.scatter(lc_test_data[test_classification.flatten()==-1,0], lc_test_data[test_classification.flatten()==-1,1], c = 'm')\n",
    "plt.scatter(sv[:,0],sv[:,1],c = 'r')\n",
    "plt.show()\n",
    "accuracy_score(lc_test_label,test_classification)"
   ]
  },
  {
   "cell_type": "markdown",
   "metadata": {},
   "source": [
    "# <center>Loading digits</center>"
   ]
  },
  {
   "cell_type": "code",
   "execution_count": 8,
   "metadata": {},
   "outputs": [],
   "source": [
    "digit_3_train = np.array(pd.read_csv('digit_3_train.dat',sep=\",\",header=None))\n",
    "digit_3_test = np.array(pd.read_csv('digit_3_test.dat',sep=\",\",header=None))\n",
    "digit_1_train = np.array(pd.read_csv('digit_1_train.dat',sep=\",\",header=None))\n",
    "digit_1_test = np.array(pd.read_csv('digit_1_test.dat',sep=\",\",header=None))\n",
    "digit_8_train = np.array(pd.read_csv('digit_8_train.dat',sep=\",\",header=None))\n",
    "digit_8_test = np.array(pd.read_csv('digit_8_test.dat',sep=\",\",header=None))"
   ]
  },
  {
   "cell_type": "markdown",
   "metadata": {},
   "source": [
    "# <center>Create training vectors for digit 1 and digit 3</center>"
   ]
  },
  {
   "cell_type": "code",
   "execution_count": 9,
   "metadata": {},
   "outputs": [],
   "source": [
    "X_ = np.vstack((digit_1_train,digit_3_train))\n",
    "y_pos = np.ones((digit_1_train.shape[0],1))\n",
    "y_neg = -1*np.ones((digit_3_train.shape[0],1))\n",
    "y_ = np.vstack((y_pos,y_neg))"
   ]
  },
  {
   "cell_type": "markdown",
   "metadata": {},
   "source": [
    "# <center>Train classifier using Linear kernel</center>"
   ]
  },
  {
   "cell_type": "code",
   "execution_count": 10,
   "metadata": {},
   "outputs": [
    {
     "name": "stdout",
     "output_type": "stream",
     "text": [
      "     pcost       dcost       gap    pres   dres\n",
      " 0:  9.6626e+02 -3.4122e+06  8e+06  3e-01  6e-11\n",
      " 1:  1.8803e+03 -5.9938e+05  1e+06  4e-02  4e-11\n",
      " 2:  7.5416e+02 -5.4122e+04  1e+05  3e-03  9e-12\n",
      " 3:  3.2999e+02 -4.4814e+03  8e+03  2e-04  2e-12\n",
      " 4:  1.7007e+02 -2.1936e+02  4e+02  2e-06  3e-13\n",
      " 5:  2.5356e+01 -2.9647e+01  6e+01  2e-15  2e-13\n",
      " 6:  3.3807e+00 -4.5403e+00  8e+00  1e-15  9e-14\n",
      " 7:  3.6667e-01 -7.5647e-01  1e+00  2e-16  3e-14\n",
      " 8:  7.3263e-02 -3.5493e-01  4e-01  2e-16  1e-14\n",
      " 9:  1.5612e-02 -3.7975e-01  4e-01  2e-16  1e-14\n",
      "10: -7.4608e-02 -2.4509e-01  2e-01  2e-16  9e-15\n",
      "11: -1.0827e-01 -2.3325e-01  1e-01  2e-16  9e-15\n",
      "12: -1.2927e-01 -2.0542e-01  8e-02  2e-16  9e-15\n",
      "13: -1.4720e-01 -1.8182e-01  3e-02  6e-16  1e-14\n",
      "14: -1.5989e-01 -1.6475e-01  5e-03  5e-16  1e-14\n",
      "15: -1.6207e-01 -1.6218e-01  1e-04  2e-16  1e-14\n",
      "16: -1.6212e-01 -1.6212e-01  2e-06  2e-16  1e-14\n",
      "17: -1.6212e-01 -1.6212e-01  2e-08  2e-16  1e-14\n",
      "Optimal solution found.\n"
     ]
    }
   ],
   "source": [
    "a,sv,w,b,classification = svmlin(X_,y_,100)"
   ]
  },
  {
   "cell_type": "markdown",
   "metadata": {},
   "source": [
    "#  <center>Testing Classifier</center>"
   ]
  },
  {
   "cell_type": "code",
   "execution_count": 11,
   "metadata": {},
   "outputs": [],
   "source": [
    "test_classifications_3 = np.matmul(digit_3_test, w.transpose()) + b\n",
    "test_classifications_1 = np.matmul(digit_1_test, w.transpose()) + b\n",
    "test_hypo = np.vstack((test_classifications_1,test_classifications_3))\n",
    "\n",
    "for i in range(test_hypo.shape[0]):\n",
    "    if(test_hypo[i]>0):\n",
    "        test_hypo[i] = 1\n",
    "    elif(test_hypo[i]<0):\n",
    "        test_hypo[i] = -1\n",
    "test_labels_pos = np.ones((digit_1_test.shape[0],1))\n",
    "test_labels_neg = -np.ones((digit_3_test.shape[0],1))\n",
    "test_labels = np.vstack((test_labels_pos,test_labels_neg))\n",
    "\n"
   ]
  },
  {
   "cell_type": "markdown",
   "metadata": {},
   "source": [
    "# <center>Checking accuracy</center>"
   ]
  },
  {
   "cell_type": "code",
   "execution_count": 12,
   "metadata": {},
   "outputs": [
    {
     "data": {
      "text/plain": [
       "0.9906976744186047"
      ]
     },
     "execution_count": 12,
     "metadata": {},
     "output_type": "execute_result"
    }
   ],
   "source": [
    "accuracy_score(test_labels,test_hypo)"
   ]
  },
  {
   "cell_type": "markdown",
   "metadata": {},
   "source": [
    "#  <center>Creating training vectors for digit 3 and 8</center>"
   ]
  },
  {
   "cell_type": "code",
   "execution_count": 13,
   "metadata": {},
   "outputs": [],
   "source": [
    "X_2 = np.vstack((digit_3_train,digit_8_train))\n",
    "y_pos_2 = np.ones((digit_3_train.shape[0],1))\n",
    "y_neg_2 = -1*np.ones((digit_8_train.shape[0],1))\n",
    "y_2 = np.vstack((y_pos_2,y_neg_2))"
   ]
  },
  {
   "cell_type": "markdown",
   "metadata": {},
   "source": [
    "# <center>Training the classifier on Linear kernel</center>"
   ]
  },
  {
   "cell_type": "code",
   "execution_count": 14,
   "metadata": {},
   "outputs": [
    {
     "name": "stdout",
     "output_type": "stream",
     "text": [
      "     pcost       dcost       gap    pres   dres\n",
      " 0:  8.7823e+02 -6.0814e+06  2e+07  6e-01  1e-10\n",
      " 1:  9.2657e+03 -1.9534e+06  4e+06  1e-01  9e-11\n",
      " 2:  7.8839e+03 -5.5149e+05  1e+06  3e-02  5e-11\n",
      " 3:  4.1884e+03 -7.7320e+04  1e+05  3e-03  2e-11\n",
      " 4:  2.0043e+03 -8.1151e+03  1e+04  3e-04  3e-12\n",
      " 5:  4.8765e+02 -6.0987e+02  1e+03  3e-06  1e-12\n",
      " 6:  6.6701e+01 -8.7853e+01  2e+02  2e-14  5e-13\n",
      " 7:  7.3402e+00 -1.4603e+01  2e+01  8e-15  2e-13\n",
      " 8:  8.4292e-02 -4.3176e+00  4e+00  8e-15  9e-14\n",
      " 9: -1.1231e+00 -4.1148e+00  3e+00  2e-15  7e-14\n",
      "10: -1.8138e+00 -3.3744e+00  2e+00  2e-15  8e-14\n",
      "11: -2.1292e+00 -2.7122e+00  6e-01  9e-16  8e-14\n",
      "12: -2.2981e+00 -2.4088e+00  1e-01  5e-15  9e-14\n",
      "13: -2.3392e+00 -2.3447e+00  6e-03  4e-15  9e-14\n",
      "14: -2.3415e+00 -2.3416e+00  1e-04  2e-16  9e-14\n",
      "15: -2.3415e+00 -2.3415e+00  3e-06  2e-15  9e-14\n",
      "16: -2.3415e+00 -2.3415e+00  5e-08  4e-16  1e-13\n",
      "Optimal solution found.\n"
     ]
    }
   ],
   "source": [
    "a_2,sv_2,w_2,b_2,classification_2 = svmlin(X_2,y_2,100)"
   ]
  },
  {
   "cell_type": "markdown",
   "metadata": {},
   "source": [
    "#  <center>Testing classifier</center>"
   ]
  },
  {
   "cell_type": "code",
   "execution_count": 82,
   "metadata": {},
   "outputs": [
    {
     "data": {
      "text/plain": [
       "0.963855421686747"
      ]
     },
     "execution_count": 82,
     "metadata": {},
     "output_type": "execute_result"
    }
   ],
   "source": [
    "test_classifications_3_2 = np.matmul(digit_3_test, w_2.transpose()) + b_2\n",
    "test_classifications_8_2 = np.matmul(digit_8_test, w_2.transpose()) + b_2\n",
    "test_hypo_2 = np.vstack((test_classifications_3_2,test_classifications_8_2))\n",
    "\n",
    "for i in range(test_hypo_2.shape[0]):\n",
    "    if(test_hypo_2[i]>0):\n",
    "        test_hypo_2[i] = 1\n",
    "    elif(test_hypo_2[i]<0):\n",
    "        test_hypo_2[i] = -1\n",
    "test_labels_pos_2 = np.ones((digit_3_test.shape[0],1))\n",
    "test_labels_neg_2 = -np.ones((digit_8_test.shape[0],1))\n",
    "test_labels_2 = np.vstack((test_labels_pos_2,test_labels_neg_2))\n",
    "\n",
    "accuracy_score(test_labels_2,test_hypo_2)"
   ]
  },
  {
   "cell_type": "markdown",
   "metadata": {},
   "source": [
    "# <center>Training the same classifier using polynomial kernel</center>"
   ]
  },
  {
   "cell_type": "code",
   "execution_count": 83,
   "metadata": {},
   "outputs": [
    {
     "name": "stdout",
     "output_type": "stream",
     "text": [
      "     pcost       dcost       gap    pres   dres\n",
      " 0:  3.2407e+03 -1.7501e+05  3e+05  2e-02  4e-13\n",
      " 1:  1.8047e+03 -1.9564e+04  4e+04  2e-03  3e-13\n",
      " 2:  6.9176e+02 -3.0673e+03  5e+03  2e-04  2e-13\n",
      " 3:  1.9156e+02 -2.2982e+02  4e+02  2e-06  1e-13\n",
      " 4:  2.6709e+01 -3.3948e+01  6e+01  2e-16  1e-13\n",
      " 5:  3.2218e+00 -5.4499e+00  9e+00  7e-16  4e-14\n",
      " 6:  1.5521e-01 -1.0526e+00  1e+00  8e-16  2e-14\n",
      " 7: -1.8794e-01 -3.4160e-01  2e-01  2e-16  6e-15\n",
      " 8: -2.2460e-01 -2.7757e-01  5e-02  2e-16  3e-15\n",
      " 9: -2.3776e-01 -2.5716e-01  2e-02  2e-16  3e-15\n",
      "10: -2.4374e-01 -2.4896e-01  5e-03  2e-16  3e-15\n",
      "11: -2.4526e-01 -2.4582e-01  6e-04  3e-16  3e-15\n",
      "12: -2.4545e-01 -2.4547e-01  2e-05  2e-16  3e-15\n",
      "13: -2.4546e-01 -2.4546e-01  4e-07  2e-16  3e-15\n",
      "14: -2.4546e-01 -2.4546e-01  9e-09  5e-16  3e-15\n",
      "Optimal solution found.\n",
      "(1200, 1)\n"
     ]
    }
   ],
   "source": [
    "a_3,sv_3,w_3,b_3,classification_3 = svmnonlin_pol(X_2,y_2,100,10)"
   ]
  },
  {
   "cell_type": "code",
   "execution_count": 92,
   "metadata": {
    "scrolled": false
   },
   "outputs": [
    {
     "data": {
      "text/plain": [
       "0.9759036144578314"
      ]
     },
     "execution_count": 92,
     "metadata": {},
     "output_type": "execute_result"
    }
   ],
   "source": [
    "test_3 = np.vstack((digit_3_test,digit_8_test))\n",
    "\n",
    "test_hypo_3 = np.matmul(polynomial_kernel(test_3,X_2,degree=10),(y_2*a_3)) + b_3\n",
    "for i in range(test_hypo_3.shape[0]):\n",
    "    if(test_hypo_3[i]>0):\n",
    "        test_hypo_3[i] = 1\n",
    "    elif(test_hypo_3[i]<0):\n",
    "        test_hypo_3[i] = -1\n",
    "test_labels_pos_3 = np.ones((digit_3_test.shape[0],1))\n",
    "test_labels_neg_3 = -np.ones((digit_8_test.shape[0],1))\n",
    "test_labels_3 = np.vstack((test_labels_pos_3,test_labels_neg_3))\n",
    "accuracy_score(test_labels_3,test_hypo_3)"
   ]
  },
  {
   "cell_type": "markdown",
   "metadata": {},
   "source": [
    "As evident above the accuracy of the classifier has increased from 96.38% to 97.59% just by changing the kernel(Linear to Polynomial). One of the reason it could happen is that the given data is not linearly separable."
   ]
  },
  {
   "cell_type": "markdown",
   "metadata": {},
   "source": [
    "# <center>It can be seen below with a few examples that support vectors are hard to classify</center>"
   ]
  },
  {
   "cell_type": "code",
   "execution_count": 93,
   "metadata": {
    "scrolled": false
   },
   "outputs": [
    {
     "data": {
      "image/png": "[encoded data removed]",
      "text/plain": [
       "<Figure size 432x288 with 1 Axes>"
      ]
     },
     "metadata": {
      "needs_background": "light"
     },
     "output_type": "display_data"
    },
    {
     "data": {
      "image/png": "[encoded data removed]",
      "text/plain": [
       "<Figure size 432x288 with 1 Axes>"
      ]
     },
     "metadata": {
      "needs_background": "light"
     },
     "output_type": "display_data"
    },
    {
     "data": {
      "image/png": "[encoded data removed]",
      "text/plain": [
       "<Figure size 432x288 with 1 Axes>"
      ]
     },
     "metadata": {
      "needs_background": "light"
     },
     "output_type": "display_data"
    },
    {
     "data": {
      "image/png": "[encoded data removed]",
      "text/plain": [
       "<Figure size 432x288 with 1 Axes>"
      ]
     },
     "metadata": {
      "needs_background": "light"
     },
     "output_type": "display_data"
    },
    {
     "data": {
      "image/png": "[encoded data removed]",
      "text/plain": [
       "<Figure size 432x288 with 1 Axes>"
      ]
     },
     "metadata": {
      "needs_background": "light"
     },
     "output_type": "display_data"
    }
   ],
   "source": [
    "support_vectors = sv_3.reshape(-1,16,16)\n",
    "samples = np.random.choice(support_vectors.shape[0],5)\n",
    "\n",
    "for i in range(samples.shape[0]):\n",
    "    plt.imshow(support_vectors[samples[i]], cmap='gray')\n",
    "    plt.show()"
   ]
  },
  {
   "cell_type": "markdown",
   "metadata": {},
   "source": [
    "# <center>Digits which are easier to classify(which are not support vectors)</center>"
   ]
  },
  {
   "cell_type": "code",
   "execution_count": 86,
   "metadata": {},
   "outputs": [
    {
     "data": {
      "image/png": "[encoded data removed]",
      "text/plain": [
       "<Figure size 432x288 with 1 Axes>"
      ]
     },
     "metadata": {
      "needs_background": "light"
     },
     "output_type": "display_data"
    },
    {
     "data": {
      "image/png": "[encoded data removed]",
      "text/plain": [
       "<Figure size 432x288 with 1 Axes>"
      ]
     },
     "metadata": {
      "needs_background": "light"
     },
     "output_type": "display_data"
    },
    {
     "data": {
      "image/png": "[encoded data removed]",
      "text/plain": [
       "<Figure size 432x288 with 1 Axes>"
      ]
     },
     "metadata": {
      "needs_background": "light"
     },
     "output_type": "display_data"
    },
    {
     "data": {
      "image/png": "[encoded data removed]",
      "text/plain": [
       "<Figure size 432x288 with 1 Axes>"
      ]
     },
     "metadata": {
      "needs_background": "light"
     },
     "output_type": "display_data"
    },
    {
     "data": {
      "image/png": "[encoded data removed]",
      "text/plain": [
       "<Figure size 432x288 with 1 Axes>"
      ]
     },
     "metadata": {
      "needs_background": "light"
     },
     "output_type": "display_data"
    }
   ],
   "source": [
    "temp = X_3[a_3.flatten()<10e-4,:]\n",
    "temp = temp.reshape(-1,16,16)\n",
    "\n",
    "samples = np.random.choice(temp.shape[0],5)\n",
    "\n",
    "\n",
    "for i in range(samples.shape[0]):\n",
    "    plt.imshow(temp[samples[i]], cmap='gray')\n",
    "    plt.show()"
   ]
  },
  {
   "cell_type": "code",
   "execution_count": 97,
   "metadata": {},
   "outputs": [
    {
     "name": "stdout",
     "output_type": "stream",
     "text": [
      "(175, 16, 16)\n"
     ]
    }
   ],
   "source": [
    "print(support_vectors.shape)"
   ]
  },
  {
   "cell_type": "code",
   "execution_count": null,
   "metadata": {},
   "outputs": [],
   "source": []
  }
 ],
 "metadata": {
  "kernelspec": {
   "display_name": "Python 3",
   "language": "python",
   "name": "python3"
  },
  "language_info": {
   "codemirror_mode": {
    "name": "ipython",
    "version": 3
   },
   "file_extension": ".py",
   "mimetype": "text/x-python",
   "name": "python",
   "nbconvert_exporter": "python",
   "pygments_lexer": "ipython3",
   "version": "3.4.3"
  }
 },
 "nbformat": 4,
 "nbformat_minor": 2
}
